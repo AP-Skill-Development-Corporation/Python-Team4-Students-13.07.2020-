{
 "cells": [
  {
   "cell_type": "code",
   "execution_count": 1,
   "metadata": {},
   "outputs": [],
   "source": [
    "import re"
   ]
  },
  {
   "cell_type": "code",
   "execution_count": 4,
   "metadata": {},
   "outputs": [
    {
     "name": "stdout",
     "output_type": "stream",
     "text": [
      "None\n"
     ]
    }
   ],
   "source": [
    "#=>-0ne or more occurences\n",
    "print(re.search(\"^[9][a-z]+\",\"5hdkvdkshfdsh\"))"
   ]
  },
  {
   "cell_type": "code",
   "execution_count": 6,
   "metadata": {},
   "outputs": [
    {
     "name": "stdout",
     "output_type": "stream",
     "text": [
      "<re.Match object; span=(0, 2), match='9h'>\n"
     ]
    }
   ],
   "source": [
    "#=>-0ne or more occurences\n",
    "print(re.search(\"^[9][a-z]\",\"9hdkvdkshfdsh\"))"
   ]
  },
  {
   "cell_type": "code",
   "execution_count": 7,
   "metadata": {},
   "outputs": [
    {
     "name": "stdout",
     "output_type": "stream",
     "text": [
      "<re.Match object; span=(0, 13), match='9hdkvdkshfdsh'>\n"
     ]
    }
   ],
   "source": [
    "#=>-0ne or more occurences\n",
    "print(re.search(\"^[9][a-z]+\",\"9hdkvdkshfdsh\"))"
   ]
  },
  {
   "cell_type": "code",
   "execution_count": 8,
   "metadata": {},
   "outputs": [
    {
     "name": "stdout",
     "output_type": "stream",
     "text": [
      "<re.Match object; span=(0, 3), match='abc'>\n"
     ]
    }
   ],
   "source": [
    "# {}-no of exact occurences\n",
    "print(re.search(\"\\A[a-z]{3}\",\"abcsdfcvghioklj\"))"
   ]
  },
  {
   "cell_type": "code",
   "execution_count": 10,
   "metadata": {},
   "outputs": [
    {
     "name": "stdout",
     "output_type": "stream",
     "text": [
      "None\n"
     ]
    }
   ],
   "source": [
    "print(re.search(\"^[9][0-9]{5}\",\"9hdkvdkshfdsh\"))"
   ]
  },
  {
   "cell_type": "code",
   "execution_count": 14,
   "metadata": {},
   "outputs": [
    {
     "name": "stdout",
     "output_type": "stream",
     "text": [
      "<re.Match object; span=(0, 6), match='f23234'>\n"
     ]
    }
   ],
   "source": [
    "print(re.search(\"^[a-z][0-9]{5}\",\"f232345dkvdkshfdsh\"))"
   ]
  },
  {
   "cell_type": "code",
   "execution_count": 21,
   "metadata": {},
   "outputs": [
    {
     "name": "stdout",
     "output_type": "stream",
     "text": [
      "<re.Match object; span=(0, 6), match='956322'>\n"
     ]
    }
   ],
   "source": [
    "print(re.search(\"^[9][0-9]{2,5}\",\"95632221\"))"
   ]
  },
  {
   "cell_type": "code",
   "execution_count": 22,
   "metadata": {},
   "outputs": [
    {
     "name": "stdout",
     "output_type": "stream",
     "text": [
      "<re.Match object; span=(0, 8), match='95632221'>\n"
     ]
    }
   ],
   "source": [
    "print(re.search(\"^[9][0-9]{5,7}\",\"956322213456789\"))"
   ]
  },
  {
   "cell_type": "code",
   "execution_count": 24,
   "metadata": {},
   "outputs": [
    {
     "name": "stdout",
     "output_type": "stream",
     "text": [
      "<re.Match object; span=(5, 6), match='2'>\n"
     ]
    }
   ],
   "source": [
    "#\\d-->checking digits in given string\n",
    "print(re.search(\"\\d\",\"arstd234ssfg\"))"
   ]
  },
  {
   "cell_type": "code",
   "execution_count": 25,
   "metadata": {},
   "outputs": [
    {
     "name": "stdout",
     "output_type": "stream",
     "text": [
      "<re.Match object; span=(5, 8), match='234'>\n"
     ]
    }
   ],
   "source": [
    "#\\d-->checking digits in given string\n",
    "print(re.search(\"\\d+\",\"arstd234ssfg\"))"
   ]
  },
  {
   "cell_type": "code",
   "execution_count": 28,
   "metadata": {},
   "outputs": [
    {
     "name": "stdout",
     "output_type": "stream",
     "text": [
      "<re.Match object; span=(0, 1), match='a'>\n"
     ]
    }
   ],
   "source": [
    "# \\w ->checking alphanumerics in string\n",
    "print(re.search(\"\\w\",\"asyfuh13243fdsf@#$%\"))"
   ]
  },
  {
   "cell_type": "code",
   "execution_count": 29,
   "metadata": {},
   "outputs": [
    {
     "name": "stdout",
     "output_type": "stream",
     "text": [
      "<re.Match object; span=(0, 15), match='asyfuh13243fdsf'>\n"
     ]
    }
   ],
   "source": [
    "# \\w ->checking alphanumerics in string\n",
    "print(re.search(\"\\w+\",\"asyfuh13243fdsf@#$%\"))"
   ]
  },
  {
   "cell_type": "code",
   "execution_count": 30,
   "metadata": {},
   "outputs": [
    {
     "name": "stdout",
     "output_type": "stream",
     "text": [
      "<re.Match object; span=(15, 16), match='@'>\n"
     ]
    }
   ],
   "source": [
    "#\\W->occurences of special characters\n",
    "print(re.search(\"\\W\",\"asyfuh13243fdsf@#$%\"))"
   ]
  },
  {
   "cell_type": "code",
   "execution_count": 32,
   "metadata": {},
   "outputs": [
    {
     "name": "stdout",
     "output_type": "stream",
     "text": [
      "<re.Match object; span=(15, 19), match='@#$%'>\n"
     ]
    }
   ],
   "source": [
    "#\\W->occurences of special characters\n",
    "print(re.search(\"\\W+\",\"asyfuh13243fdsf@#$%1234\"))"
   ]
  },
  {
   "cell_type": "markdown",
   "metadata": {},
   "source": [
    "## valiadations\n"
   ]
  },
  {
   "cell_type": "markdown",
   "metadata": {},
   "source": [
    "###  phone number valiadtion\n",
    "1. having 10 digits\n",
    "2. strats with 6,7,8,9\n",
    "3. It can starts with +91 or 0"
   ]
  },
  {
   "cell_type": "code",
   "execution_count": 35,
   "metadata": {},
   "outputs": [
    {
     "name": "stdout",
     "output_type": "stream",
     "text": [
      "<re.Match object; span=(0, 10), match='9876543123'>\n"
     ]
    }
   ],
   "source": [
    "pattern=\"^[6-9][0-9]{9}\"\n",
    "print(re.search(pattern,\"9876543123456789\"))"
   ]
  },
  {
   "cell_type": "code",
   "execution_count": 37,
   "metadata": {},
   "outputs": [
    {
     "name": "stdout",
     "output_type": "stream",
     "text": [
      "<re.Match object; span=(0, 13), match='+919848916631'>\n"
     ]
    }
   ],
   "source": [
    "p=\"^[+][9][1][6-9][0-9]{9}$\"\n",
    "print(re.search(p,\"+919848916631\"))"
   ]
  },
  {
   "cell_type": "code",
   "execution_count": 44,
   "metadata": {},
   "outputs": [
    {
     "name": "stdout",
     "output_type": "stream",
     "text": [
      "<re.Match object; span=(0, 13), match='+919876543212'>\n"
     ]
    }
   ],
   "source": [
    "## final valiadation\n",
    "p1=\"^[6-9][0-9]{9}$|^[+][9][1][6-9][0-9]{9}$|^[0][6-9][0-9]{9}$\"\n",
    "print(re.search(p1,\"+919876543212\"))"
   ]
  },
  {
   "cell_type": "markdown",
   "metadata": {},
   "source": [
    "####  Gmail validations\n",
    "-  madevi.m@apssdc.in\n",
    "- user name having kength is from 8-15\n",
    "-  user should combination ofn alphabets and also numerics  and also special characters\n",
    "- domain name length should be [2-8]"
   ]
  },
  {
   "cell_type": "markdown",
   "metadata": {},
   "source": [
    "## File handling\n",
    "- creating ,reading writing,adding.\n",
    "- open()--To open a file\n",
    " - filename,mode\n"
   ]
  },
  {
   "cell_type": "markdown",
   "metadata": {},
   "source": [
    "## methods in file handling\n",
    "- r=read-open file for reading ,error if file does not exisit\n",
    "- w= write-opens a file for writing data,creates a file if it is not exist\n",
    "- a=append- opens a file for appending,creates a file if it is not exist\n",
    "- x=create- creates a file,return an error if it is exists"
   ]
  },
  {
   "cell_type": "code",
   "execution_count": 45,
   "metadata": {},
   "outputs": [
    {
     "data": {
      "text/plain": [
       "<_io.TextIOWrapper name='sample.txt' mode='r' encoding='cp1252'>"
      ]
     },
     "execution_count": 45,
     "metadata": {},
     "output_type": "execute_result"
    }
   ],
   "source": [
    "f=open(\"sample.txt\")\n",
    "f"
   ]
  },
  {
   "cell_type": "code",
   "execution_count": 46,
   "metadata": {},
   "outputs": [
    {
     "data": {
      "text/plain": [
       "'\"good evening\"'"
      ]
     },
     "execution_count": 46,
     "metadata": {},
     "output_type": "execute_result"
    }
   ],
   "source": [
    "f.read()# entier content of file"
   ]
  },
  {
   "cell_type": "code",
   "execution_count": 48,
   "metadata": {},
   "outputs": [],
   "source": [
    "## with a-append\n",
    "f=open(\"sample.txt\",\"a\")\n",
    "f.write(\"\\n apssdc students\")\n",
    "f.close()\n"
   ]
  },
  {
   "cell_type": "code",
   "execution_count": 53,
   "metadata": {},
   "outputs": [
    {
     "data": {
      "text/plain": [
       "'goo'"
      ]
     },
     "execution_count": 53,
     "metadata": {},
     "output_type": "execute_result"
    }
   ],
   "source": [
    "f=open(\"sample.txt\")\n",
    "f.read(3)"
   ]
  },
  {
   "cell_type": "code",
   "execution_count": 54,
   "metadata": {},
   "outputs": [
    {
     "data": {
      "text/plain": [
       "'d eve'"
      ]
     },
     "execution_count": 54,
     "metadata": {},
     "output_type": "execute_result"
    }
   ],
   "source": [
    "f.read(5)"
   ]
  },
  {
   "cell_type": "code",
   "execution_count": 57,
   "metadata": {},
   "outputs": [
    {
     "name": "stdout",
     "output_type": "stream",
     "text": [
      "good evening apssdc students\n",
      "\n",
      " apssdc students\n"
     ]
    }
   ],
   "source": [
    "## line by line \n",
    "x=open(\"sample.txt\")\n",
    "print(x.readline())\n",
    "print(x.readline())"
   ]
  },
  {
   "cell_type": "code",
   "execution_count": 65,
   "metadata": {},
   "outputs": [],
   "source": [
    "x1=x.read(3)\n",
    "#x1.seek(0)"
   ]
  },
  {
   "cell_type": "code",
   "execution_count": 67,
   "metadata": {},
   "outputs": [],
   "source": [
    "#write \n",
    "f1=open(\"sample1.txt\",\"w\")\n",
    "f1.write(\"Vasantha\")\n",
    "f1.write(\"\\n Python classes\")\n",
    "f1.write(\"\\n gsefrywgrouijpo\")\n",
    "f1.close()\n"
   ]
  },
  {
   "cell_type": "code",
   "execution_count": 68,
   "metadata": {},
   "outputs": [],
   "source": [
    "#write \n",
    "f1=open(\"sample.txt\",\"w\")\n",
    "f1.write(\"Vasantha\")\n",
    "f1.write(\"\\n Python classes\")\n",
    "f1.write(\"\\n gsefrywgrouijpo\")\n",
    "f1.close()\n"
   ]
  },
  {
   "cell_type": "code",
   "execution_count": 73,
   "metadata": {},
   "outputs": [
    {
     "name": "stdout",
     "output_type": "stream",
     "text": [
      "['Vasantha\\n', ' Python classes\\n', ' gsefrywgrouijpo']\n"
     ]
    }
   ],
   "source": [
    "with open (\"sample1.txt\",\"r\") as n:\n",
    "    print(n.readlines())\n",
    "    \n",
    "    "
   ]
  },
  {
   "cell_type": "code",
   "execution_count": 75,
   "metadata": {},
   "outputs": [
    {
     "name": "stdout",
     "output_type": "stream",
     "text": [
      "Vasantha\n",
      " Python classes\n",
      " gsefrywgrouijpo\n"
     ]
    }
   ],
   "source": [
    "with open (\"sample1.txt\",\"r\") as n:\n",
    "    for i in (n.read().split(',')):\n",
    "        print(i)\n",
    "        \n",
    "    \n",
    "    "
   ]
  },
  {
   "cell_type": "code",
   "execution_count": 76,
   "metadata": {},
   "outputs": [],
   "source": [
    "## read==gives the data in the format of string\n",
    "# readlines()==gives the data in the format of list"
   ]
  },
  {
   "cell_type": "code",
   "execution_count": 79,
   "metadata": {},
   "outputs": [
    {
     "name": "stdout",
     "output_type": "stream",
     "text": [
      "Vasan\n",
      "5\n"
     ]
    }
   ],
   "source": [
    "fs=open(\"sample1.txt\")\n",
    "print(fs.read(5))\n",
    "print(fs.tell())## cursor position"
   ]
  },
  {
   "cell_type": "code",
   "execution_count": 80,
   "metadata": {},
   "outputs": [
    {
     "data": {
      "text/plain": [
       "'tha'"
      ]
     },
     "execution_count": 80,
     "metadata": {},
     "output_type": "execute_result"
    }
   ],
   "source": [
    "fs.read(3)"
   ]
  },
  {
   "cell_type": "code",
   "execution_count": 81,
   "metadata": {},
   "outputs": [
    {
     "data": {
      "text/plain": [
       "8"
      ]
     },
     "execution_count": 81,
     "metadata": {},
     "output_type": "execute_result"
    }
   ],
   "source": [
    "fs.tell()"
   ]
  },
  {
   "cell_type": "code",
   "execution_count": 107,
   "metadata": {},
   "outputs": [],
   "source": [
    "# x we can create a file\n",
    "fr=open(\"myfile3\",\"x\")\n",
    "fr.close()"
   ]
  },
  {
   "cell_type": "code",
   "execution_count": 108,
   "metadata": {},
   "outputs": [],
   "source": [
    "## remove file\n",
    "import os\n",
    "os.remove(\"myfile3\")"
   ]
  },
  {
   "cell_type": "markdown",
   "metadata": {},
   "source": [
    "##  create a  file with random data\n",
    "1. Line count\n",
    "2. word count\n",
    "3. characters count\n",
    "\n"
   ]
  },
  {
   "cell_type": "markdown",
   "metadata": {},
   "source": [
    "## Generate a marks 50 students in a file\n",
    " 1. pass percentage\n",
    " 2. failure percentage\n",
    " 3. Distinction percentage\n",
    "\n"
   ]
  },
  {
   "cell_type": "code",
   "execution_count": 115,
   "metadata": {},
   "outputs": [
    {
     "name": "stdout",
     "output_type": "stream",
     "text": [
      "2\n",
      "2\n"
     ]
    }
   ],
   "source": [
    "n=int(input()) #5*4*3*2*1\n",
    "b=1\n",
    "if n>0: #5>0\n",
    "    for i in range(1,n+1): 1==1*1*2*3*4*5\n",
    "        b*=i\n",
    "print(b) \n"
   ]
  },
  {
   "cell_type": "code",
   "execution_count": 111,
   "metadata": {},
   "outputs": [
    {
     "name": "stdout",
     "output_type": "stream",
     "text": [
      "5\n"
     ]
    },
    {
     "data": {
      "text/plain": [
       "120"
      ]
     },
     "execution_count": 111,
     "metadata": {},
     "output_type": "execute_result"
    }
   ],
   "source": [
    "import math\n",
    "n=int(input())\n",
    "math.factorial(n)\n"
   ]
  },
  {
   "cell_type": "code",
   "execution_count": 116,
   "metadata": {},
   "outputs": [],
   "source": [
    "## 1. palondromic string\n",
    "## 2. find product\n",
    "## 3. print the numbers "
   ]
  },
  {
   "cell_type": "code",
   "execution_count": 13,
   "metadata": {},
   "outputs": [
    {
     "name": "stdout",
     "output_type": "stream",
     "text": [
      "123\n",
      "['1', '2', '3']\n",
      "[1, 2, 3]\n"
     ]
    }
   ],
   "source": [
    "l=[]\n",
    "for i in range(1):\n",
    "    n=list((input()))\n",
    "    print(n)\n",
    "    for j in n:\n",
    "        #print(int(j),end=\" \")\n",
    "        l.append(int(j))\n",
    "    print(l)"
   ]
  },
  {
   "cell_type": "code",
   "execution_count": null,
   "metadata": {},
   "outputs": [],
   "source": []
  }
 ],
 "metadata": {
  "kernelspec": {
   "display_name": "Python 3",
   "language": "python",
   "name": "python3"
  },
  "language_info": {
   "codemirror_mode": {
    "name": "ipython",
    "version": 3
   },
   "file_extension": ".py",
   "mimetype": "text/x-python",
   "name": "python",
   "nbconvert_exporter": "python",
   "pygments_lexer": "ipython3",
   "version": "3.7.6"
  }
 },
 "nbformat": 4,
 "nbformat_minor": 4
}
