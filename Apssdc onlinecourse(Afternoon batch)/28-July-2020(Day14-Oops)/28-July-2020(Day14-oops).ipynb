{
 "cells": [
  {
   "cell_type": "markdown",
   "metadata": {},
   "source": [
    "## OOPS\n",
    "- object oriented programming\n",
    "- object creation\n",
    "- Class creation\n",
    "- Methods  calling according to the object"
   ]
  },
  {
   "cell_type": "markdown",
   "metadata": {},
   "source": [
    "## object\n",
    "- 2 properties\n",
    "    - Attributes(variable)\n",
    "    - Behaviour(method)\n"
   ]
  },
  {
   "cell_type": "raw",
   "metadata": {},
   "source": [
    "## A class is like as blue print/constructor for creating objects\n",
    "class classname:\n",
    "    statements\n",
    "## In side the class you can define your method(function)"
   ]
  },
  {
   "cell_type": "code",
   "execution_count": 2,
   "metadata": {},
   "outputs": [],
   "source": [
    "class myclass:\n",
    "    x=5"
   ]
  },
  {
   "cell_type": "code",
   "execution_count": 6,
   "metadata": {},
   "outputs": [],
   "source": [
    "## object creation  for class\n",
    "## objectname=classname\n",
    "obj=myclass\n",
    "obj1=myclass"
   ]
  },
  {
   "cell_type": "code",
   "execution_count": 7,
   "metadata": {},
   "outputs": [
    {
     "name": "stdout",
     "output_type": "stream",
     "text": [
      "<class '__main__.myclass'>\n",
      "<class '__main__.myclass'>\n"
     ]
    }
   ],
   "source": [
    "print(obj)\n",
    "print(obj1)"
   ]
  },
  {
   "cell_type": "code",
   "execution_count": 8,
   "metadata": {},
   "outputs": [
    {
     "name": "stdout",
     "output_type": "stream",
     "text": [
      "5\n",
      "5\n"
     ]
    }
   ],
   "source": [
    "print(obj.x)\n",
    "print(obj1.x)"
   ]
  },
  {
   "cell_type": "code",
   "execution_count": 10,
   "metadata": {},
   "outputs": [
    {
     "name": "stdout",
     "output_type": "stream",
     "text": [
      "2543158748376\n",
      "2543158748376\n"
     ]
    }
   ],
   "source": [
    "print(id(obj))## memeory allocation\n",
    "print(id(obj1))"
   ]
  },
  {
   "cell_type": "code",
   "execution_count": 12,
   "metadata": {},
   "outputs": [],
   "source": [
    "#print(type(obj))"
   ]
  },
  {
   "cell_type": "code",
   "execution_count": 15,
   "metadata": {},
   "outputs": [
    {
     "name": "stdout",
     "output_type": "stream",
     "text": [
      "<class 'int'>\n",
      "<class 'str'>\n"
     ]
    }
   ],
   "source": [
    "d=9 ##\n",
    "f=\"hghj\"\n",
    "print(type(d))\n",
    "print(type(f))"
   ]
  },
  {
   "cell_type": "code",
   "execution_count": 19,
   "metadata": {},
   "outputs": [
    {
     "name": "stdout",
     "output_type": "stream",
     "text": [
      "welcome to online python\n",
      "welcome to online python\n"
     ]
    }
   ],
   "source": [
    "## creating a class with method\n",
    "class class1():\n",
    "    def sample(self):## self is to reffer a object\n",
    "        print(\"welcome to online python\")\n",
    "p1=class1()## object creation\n",
    "p2=class1()\n",
    "#class1().sample()#classname.method name\n",
    "p1.sample()# objname.method name\n",
    "p2.sample()"
   ]
  },
  {
   "cell_type": "markdown",
   "metadata": {},
   "source": [
    "## constructor __init__\n",
    "- Intialising a attributes\n",
    "- constructor will run atomatical when object created\n",
    "- the parameter inside is self"
   ]
  },
  {
   "cell_type": "code",
   "execution_count": 22,
   "metadata": {},
   "outputs": [
    {
     "name": "stdout",
     "output_type": "stream",
     "text": [
      "we wre in constructor\n"
     ]
    },
    {
     "data": {
      "text/plain": [
       "<__main__.apssdc at 0x250206c0ec8>"
      ]
     },
     "execution_count": 22,
     "metadata": {},
     "output_type": "execute_result"
    }
   ],
   "source": [
    "class apssdc():\n",
    "    def __init__(self):\n",
    "        print(\"we wre in constructor\")\n",
    "    def sample():\n",
    "        pass\n",
    "ob=apssdc()\n",
    "ob"
   ]
  },
  {
   "cell_type": "code",
   "execution_count": 30,
   "metadata": {},
   "outputs": [
    {
     "name": "stdout",
     "output_type": "stream",
     "text": [
      "we wre in constructor\n",
      "3\n",
      "4\n"
     ]
    }
   ],
   "source": [
    "class apssdc():\n",
    "    def __init__(self,x,y):\n",
    "        print(\"we wre in constructor\")\n",
    "        self.x=x\n",
    "        self.y=y\n",
    "    def sample(self):\n",
    "        print(self.x)\n",
    "        print(self.y)\n",
    "        \n",
    "ob=apssdc(3,4)\n",
    "ob.sample()"
   ]
  },
  {
   "cell_type": "code",
   "execution_count": 35,
   "metadata": {},
   "outputs": [
    {
     "name": "stdout",
     "output_type": "stream",
     "text": [
      "we wre in 2 nd constured\n"
     ]
    },
    {
     "data": {
      "text/plain": [
       "<__main__.apssdc1 at 0x250206d6188>"
      ]
     },
     "execution_count": 35,
     "metadata": {},
     "output_type": "execute_result"
    }
   ],
   "source": [
    "class apssdc1():\n",
    "    def __init__(self,x,y):\n",
    "        print(\"we wre in constructor\")\n",
    "        self.x=x\n",
    "        self.y=y\n",
    "    def __init__(g):\n",
    "        print(\"we wre in 2 nd constured\")\n",
    "obj=apssdc1()\n",
    "obj"
   ]
  },
  {
   "cell_type": "code",
   "execution_count": 47,
   "metadata": {},
   "outputs": [
    {
     "name": "stdout",
     "output_type": "stream",
     "text": [
      "we wre in constructor\n",
      "python\n",
      "we wre in 2 nd constured\n"
     ]
    }
   ],
   "source": [
    "class apssdc2():\n",
    "    def __init__(self,x,y):\n",
    "        print(\"we wre in constructor\")\n",
    "        self.x=x\n",
    "        self.y=y\n",
    "class apssdc3():\n",
    "    def __init__(g,h):#self is g\n",
    "        g.k=h # g.h=h\n",
    "        print(g.k)\n",
    "        print(\"we wre in 2 nd constured\")\n",
    "x1=apssdc2(\"hii\",\"hello\")\n",
    "x2=apssdc3(\"python\")"
   ]
  },
  {
   "cell_type": "code",
   "execution_count": 48,
   "metadata": {},
   "outputs": [
    {
     "data": {
      "text/plain": [
       "'hii'"
      ]
     },
     "execution_count": 48,
     "metadata": {},
     "output_type": "execute_result"
    }
   ],
   "source": [
    "x1.x"
   ]
  },
  {
   "cell_type": "code",
   "execution_count": 49,
   "metadata": {},
   "outputs": [
    {
     "data": {
      "text/plain": [
       "'hello'"
      ]
     },
     "execution_count": 49,
     "metadata": {},
     "output_type": "execute_result"
    }
   ],
   "source": [
    "x1.y"
   ]
  },
  {
   "cell_type": "code",
   "execution_count": 51,
   "metadata": {},
   "outputs": [
    {
     "name": "stdout",
     "output_type": "stream",
     "text": [
      "data saved succeful\n"
     ]
    },
    {
     "data": {
      "text/plain": [
       "<__main__.studentsdata at 0x250206ea088>"
      ]
     },
     "execution_count": 51,
     "metadata": {},
     "output_type": "execute_result"
    }
   ],
   "source": [
    "class studentsdata():\n",
    "    def __init__(self,name,age,rollnumber):\n",
    "        self.name=name\n",
    "        self.age=age\n",
    "        self.rollnumber=rollnumber\n",
    "        print(\"data saved succeful\")\n",
    "x=studentsdata(\"madhavi\",25,\"117z1a0431\") \n",
    "x"
   ]
  },
  {
   "cell_type": "code",
   "execution_count": 52,
   "metadata": {},
   "outputs": [
    {
     "data": {
      "text/plain": [
       "'madhavi'"
      ]
     },
     "execution_count": 52,
     "metadata": {},
     "output_type": "execute_result"
    }
   ],
   "source": [
    "x.name\n"
   ]
  },
  {
   "cell_type": "code",
   "execution_count": 53,
   "metadata": {},
   "outputs": [
    {
     "data": {
      "text/plain": [
       "25"
      ]
     },
     "execution_count": 53,
     "metadata": {},
     "output_type": "execute_result"
    }
   ],
   "source": [
    "x.age"
   ]
  },
  {
   "cell_type": "code",
   "execution_count": 54,
   "metadata": {},
   "outputs": [
    {
     "data": {
      "text/plain": [
       "'117z1a0431'"
      ]
     },
     "execution_count": 54,
     "metadata": {},
     "output_type": "execute_result"
    }
   ],
   "source": [
    "x.rollnumber"
   ]
  },
  {
   "cell_type": "code",
   "execution_count": 57,
   "metadata": {},
   "outputs": [
    {
     "name": "stdout",
     "output_type": "stream",
     "text": [
      "data saved succeful\n",
      "madhavi\n",
      "25\n",
      "431\n"
     ]
    }
   ],
   "source": [
    "class students_data1():\n",
    "    def __init__(self,name,age,rollnumber):\n",
    "        self.name=name\n",
    "        self.age=age\n",
    "        self.rollnumber=rollnumber\n",
    "        print(\"data saved succeful\")\n",
    "    def display(self):\n",
    "        print(self.name)\n",
    "        print(self.age)\n",
    "        print(self.rollnumber)\n",
    "x1=students_data1(\"madhavi\",25,\"431\")\n",
    "x1.display()"
   ]
  },
  {
   "cell_type": "code",
   "execution_count": 58,
   "metadata": {},
   "outputs": [
    {
     "name": "stdout",
     "output_type": "stream",
     "text": [
      "10\n",
      "-2\n",
      "8\n"
     ]
    }
   ],
   "source": [
    "class cal:\n",
    "    def __init__(self,x,y):\n",
    "        self.x=x\n",
    "        self.y=y\n",
    "    def add(self):\n",
    "        return self.x+self.y\n",
    "    def sub(self):\n",
    "        return self.x-self.y\n",
    "    def mul(self):\n",
    "        return self.x*2\n",
    "obj=cal(4,6)##object\n",
    "print(obj.add())# calling the method with object\n",
    "print(obj.sub())\n",
    "print(obj.mul())"
   ]
  },
  {
   "cell_type": "code",
   "execution_count": 61,
   "metadata": {},
   "outputs": [
    {
     "name": "stdout",
     "output_type": "stream",
     "text": [
      "seshadri\n",
      "21\n",
      "300000\n",
      "seshadrireddy19@gmail.com\n"
     ]
    }
   ],
   "source": [
    "# create a class for the employ data with name,age,salary,email\n",
    "## print that employ data\n",
    "class employee():\n",
    "    def __init__(self,name,age,salary,email):\n",
    "        self.name=name\n",
    "        self.age=age\n",
    "        self.salary=salary\n",
    "        self.email=email\n",
    "    def display(self):\n",
    "        print(self.name)\n",
    "        print(self.age)\n",
    "        print(self.salary)\n",
    "        print(self.email)\n",
    "x2=employee(\"seshadri\",21,300000,\"seshadrireddy19@gmail.com\")\n",
    "x2.display()"
   ]
  },
  {
   "cell_type": "code",
   "execution_count": null,
   "metadata": {},
   "outputs": [],
   "source": []
  }
 ],
 "metadata": {
  "kernelspec": {
   "display_name": "Python 3",
   "language": "python",
   "name": "python3"
  },
  "language_info": {
   "codemirror_mode": {
    "name": "ipython",
    "version": 3
   },
   "file_extension": ".py",
   "mimetype": "text/x-python",
   "name": "python",
   "nbconvert_exporter": "python",
   "pygments_lexer": "ipython3",
   "version": "3.7.6"
  }
 },
 "nbformat": 4,
 "nbformat_minor": 4
}
