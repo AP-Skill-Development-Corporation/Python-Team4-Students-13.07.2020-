{
 "cells": [
  {
   "cell_type": "markdown",
   "metadata": {},
   "source": [
    "## Literate Programming"
   ]
  },
  {
   "cell_type": "markdown",
   "metadata": {},
   "source": [
    "- Combination of Documnetation and Code ,so that humans esay understand"
   ]
  },
  {
   "cell_type": "markdown",
   "metadata": {},
   "source": [
    " ## markdown syntaxs"
   ]
  },
  {
   "cell_type": "markdown",
   "metadata": {},
   "source": [
    "# main heading\n",
    "## heading 2\n",
    "### heading 3\n",
    "#### heading 4"
   ]
  },
  {
   "cell_type": "markdown",
   "metadata": {},
   "source": [
    "**apssdc**\n",
    "\n",
    "***italic***\n",
    "\n",
    "*italic*\n",
    "\n",
    "__bold__\n",
    "\n",
    "\n"
   ]
  },
  {
   "cell_type": "markdown",
   "metadata": {},
   "source": [
    "#### paragraph\n",
    "fdytfuijokugiigi'ngfuyuhio.\n",
    "gfuygiuh\n",
    "\n",
    "fdfuiuhiojopkpokohgghvghg\n",
    "wqwrtyyuyiil,vbnm\n",
    "###### markdownguide.org"
   ]
  },
  {
   "cell_type": "markdown",
   "metadata": {},
   "source": [
    "## orderd list\n",
    "1. apssdc\n",
    "2. python\n",
    "3. mvgr\n",
    "4. jntuk\n",
    "    1. anu\n",
    "    2. svce\n",
    "    3. rgukt\n",
    "5. kvsw\n",
    "6. aditya\n",
    "    "
   ]
  },
  {
   "cell_type": "markdown",
   "metadata": {},
   "source": [
    "### unorderd list\n",
    "+ vhffjkfj\n",
    "- cgdjvjdhkldd\n",
    "- hgdiehd\n",
    "  - hgfiuhr\n",
    "  * vhgfiio\n",
    "  * jjkh\n",
    "    + ffsud\n",
    "    + gvhbf\n",
    "- gsdgg\n"
   ]
  },
  {
   "cell_type": "code",
   "execution_count": 3,
   "metadata": {},
   "outputs": [
    {
     "data": {
      "text/plain": [
       "' ghfuywegiueew\\ngruwqgqrihrih'"
      ]
     },
     "execution_count": 3,
     "metadata": {},
     "output_type": "execute_result"
    }
   ],
   "source": [
    "### Comments in python\n",
    "'''bvdhjbsdjjsd----  ## multiple comments\n",
    "gyhghjhjji'''\n",
    "\n",
    "\"\"\" ghfuywegiueew\n",
    "gruwqgqrihrih\"\"\"\n"
   ]
  },
  {
   "cell_type": "markdown",
   "metadata": {},
   "source": [
    "## variable\n",
    "- Sholud contain some data\n",
    "- assign the data\n",
    "\n",
    "#### Requirements\n",
    "- must start with camalcaseand combination of numbers\n",
    "- shouls not starts with special charaters\n",
    "- may stars with _\n",
    "- not starts with numbers\n",
    "- should not strts with keyword \n"
   ]
  },
  {
   "cell_type": "code",
   "execution_count": 7,
   "metadata": {},
   "outputs": [
    {
     "name": "stdout",
     "output_type": "stream",
     "text": [
      "3\n"
     ]
    },
    {
     "data": {
      "text/plain": [
       "3"
      ]
     },
     "execution_count": 7,
     "metadata": {},
     "output_type": "execute_result"
    }
   ],
   "source": [
    "## examples of variables\n",
    "a=3 # variable is a\n",
    "\n",
    "print(a ) ## printing the data of a\n",
    "a"
   ]
  },
  {
   "cell_type": "code",
   "execution_count": 10,
   "metadata": {},
   "outputs": [
    {
     "data": {
      "text/plain": [
       "456"
      ]
     },
     "execution_count": 10,
     "metadata": {},
     "output_type": "execute_result"
    }
   ],
   "source": [
    "ApssDc33=456 ## variable with a camalcase and numbers\n",
    "ApssDc33"
   ]
  },
  {
   "cell_type": "markdown",
   "metadata": {},
   "source": [
    "### Data Types\n",
    "1. int -- combination of numbers\n",
    "2. Float  --data eith extension of decimal point\n",
    "3. String --data with quotes\n",
    "4. Bool  --data either Tr\n",
    "5. Complex --data combination of real and imaginary\n"
   ]
  },
  {
   "cell_type": "code",
   "execution_count": 18,
   "metadata": {},
   "outputs": [],
   "source": [
    "a=23\n",
    "b=34.45\n",
    "c=\"apssdc\"\n",
    "d=True\n",
    "e=\"4765834\"\n",
    "f=4+10j"
   ]
  },
  {
   "cell_type": "code",
   "execution_count": 19,
   "metadata": {},
   "outputs": [
    {
     "name": "stdout",
     "output_type": "stream",
     "text": [
      "<class 'int'>\n"
     ]
    }
   ],
   "source": [
    "print(type(a))"
   ]
  },
  {
   "cell_type": "code",
   "execution_count": 20,
   "metadata": {},
   "outputs": [
    {
     "name": "stdout",
     "output_type": "stream",
     "text": [
      "<class 'float'>\n"
     ]
    }
   ],
   "source": [
    "print(type(b))"
   ]
  },
  {
   "cell_type": "code",
   "execution_count": 21,
   "metadata": {},
   "outputs": [
    {
     "name": "stdout",
     "output_type": "stream",
     "text": [
      "<class 'str'>\n"
     ]
    }
   ],
   "source": [
    "print(type(c))"
   ]
  },
  {
   "cell_type": "code",
   "execution_count": 22,
   "metadata": {},
   "outputs": [
    {
     "name": "stdout",
     "output_type": "stream",
     "text": [
      "<class 'bool'>\n"
     ]
    }
   ],
   "source": [
    "print(type(d))"
   ]
  },
  {
   "cell_type": "code",
   "execution_count": 23,
   "metadata": {},
   "outputs": [
    {
     "data": {
      "text/plain": [
       "str"
      ]
     },
     "execution_count": 23,
     "metadata": {},
     "output_type": "execute_result"
    }
   ],
   "source": [
    "type(e)"
   ]
  },
  {
   "cell_type": "code",
   "execution_count": 24,
   "metadata": {},
   "outputs": [
    {
     "data": {
      "text/plain": [
       "complex"
      ]
     },
     "execution_count": 24,
     "metadata": {},
     "output_type": "execute_result"
    }
   ],
   "source": [
    "type(f)"
   ]
  },
  {
   "cell_type": "code",
   "execution_count": null,
   "metadata": {},
   "outputs": [],
   "source": []
  }
 ],
 "metadata": {
  "kernelspec": {
   "display_name": "Python 3",
   "language": "python",
   "name": "python3"
  },
  "language_info": {
   "codemirror_mode": {
    "name": "ipython",
    "version": 3
   },
   "file_extension": ".py",
   "mimetype": "text/x-python",
   "name": "python",
   "nbconvert_exporter": "python",
   "pygments_lexer": "ipython3",
   "version": "3.7.6"
  }
 },
 "nbformat": 4,
 "nbformat_minor": 4
}
