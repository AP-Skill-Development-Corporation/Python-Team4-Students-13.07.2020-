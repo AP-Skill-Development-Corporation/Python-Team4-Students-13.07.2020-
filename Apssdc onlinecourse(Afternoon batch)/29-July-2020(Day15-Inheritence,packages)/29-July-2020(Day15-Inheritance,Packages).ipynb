{
 "cells": [
  {
   "cell_type": "markdown",
   "metadata": {},
   "source": [
    "## Objects\n",
    "1. Variables\n",
    "2. methods"
   ]
  },
  {
   "cell_type": "markdown",
   "metadata": {},
   "source": [
    "## Types of variables-2\n",
    "1. instance variables/object oriented variables\n",
    "2. class variables/static variables"
   ]
  },
  {
   "cell_type": "markdown",
   "metadata": {},
   "source": [
    "## Types of methods-3\n",
    "1. object method\n",
    "2. Class method\n",
    "3. Static method"
   ]
  },
  {
   "cell_type": "code",
   "execution_count": 14,
   "metadata": {},
   "outputs": [
    {
     "name": "stdout",
     "output_type": "stream",
     "text": [
      "8 bmw\n"
     ]
    }
   ],
   "source": [
    "## Instance variables\n",
    "class car:\n",
    "    def __init__(self):##\n",
    "        self.mil=10\n",
    "        self.brand=\"bmw\"\n",
    "o=car()\n",
    "o.mil=8\n",
    "\n",
    "print(o.mil,o.brand)"
   ]
  },
  {
   "cell_type": "code",
   "execution_count": 21,
   "metadata": {},
   "outputs": [
    {
     "name": "stdout",
     "output_type": "stream",
     "text": [
      "10 bmw 6\n",
      "6 bmw 7\n",
      "7\n"
     ]
    }
   ],
   "source": [
    "## class variable,static variable\n",
    "class car:\n",
    "    windows=4\n",
    "    def __init__(self):##\n",
    "        self.mil=10\n",
    "        self.brand=\"bmw\"\n",
    "o1=car()\n",
    "o2=car()\n",
    "o2.mil=6\n",
    "o1.windows=6# change class variable with object\n",
    "car.windows=7#change class variable with class\n",
    "print(o1.mil,o1.brand,o1.windows)\n",
    "print(o2.mil,o2.brand,o2.windows)\n",
    "print(car.windows)"
   ]
  },
  {
   "cell_type": "markdown",
   "metadata": {},
   "source": [
    "## object method"
   ]
  },
  {
   "cell_type": "code",
   "execution_count": 23,
   "metadata": {},
   "outputs": [
    {
     "name": "stdout",
     "output_type": "stream",
     "text": [
      "avg of x1: 16.5\n",
      "avg of x2: 42.0\n"
     ]
    }
   ],
   "source": [
    "class students:\n",
    "    def __init__(self,cse,ece,mech,eee):\n",
    "        self.cse=cse\n",
    "        self.ece=ece\n",
    "        self.mech=mech\n",
    "        self.eee=eee\n",
    "    def avg(self): ## object method\n",
    "        return (self.cse+self.ece+self.mech+self.eee)/4\n",
    "        \n",
    "x1=students(33,4,6,23)\n",
    "x2=students(67,45,33,23)\n",
    "print(\"avg of x1:\",x1.avg())\n",
    "print(\"avg of x2:\",x2.avg())\n",
    "\n",
    "    \n",
    "    "
   ]
  },
  {
   "cell_type": "markdown",
   "metadata": {},
   "source": [
    "## class method"
   ]
  },
  {
   "cell_type": "code",
   "execution_count": 32,
   "metadata": {},
   "outputs": [
    {
     "data": {
      "text/plain": [
       "('college name', 'Apssdc')"
      ]
     },
     "execution_count": 32,
     "metadata": {},
     "output_type": "execute_result"
    }
   ],
   "source": [
    "class students:\n",
    "    college=\"Apssdc\"\n",
    "    @classmethod\n",
    "    def clginfo(cls):\n",
    "        return(\"college name\",cls.college)\n",
    "#n1=students() #\n",
    "students.clginfo()\n",
    "#n1.clginfo()\n",
    "    \n",
    "    "
   ]
  },
  {
   "cell_type": "markdown",
   "metadata": {},
   "source": [
    "## Static method"
   ]
  },
  {
   "cell_type": "code",
   "execution_count": 37,
   "metadata": {},
   "outputs": [
    {
     "name": "stdout",
     "output_type": "stream",
     "text": [
      "this is about static method\n",
      "this is about static method\n"
     ]
    }
   ],
   "source": [
    "class example:\n",
    "    @staticmethod\n",
    "    def sample():\n",
    "        print(\"this is about static method\")\n",
    "example.sample() #accessing static method with class name\n",
    "s1=example()\n",
    "s1.sample()# accessing the static method with object"
   ]
  },
  {
   "cell_type": "markdown",
   "metadata": {},
   "source": [
    "## Inheritance\n",
    "- single inheritence\n",
    "- multiline inheritence\n",
    "- multilevel inheritence"
   ]
  },
  {
   "cell_type": "markdown",
   "metadata": {},
   "source": [
    "### single inheritence\n"
   ]
  },
  {
   "cell_type": "code",
   "execution_count": 47,
   "metadata": {},
   "outputs": [
    {
     "name": "stdout",
     "output_type": "stream",
     "text": [
      "we are in f1\n"
     ]
    }
   ],
   "source": [
    "class A:\n",
    "    def f1(self):\n",
    "        print(\"we are in f1\")\n",
    "class B(A):\n",
    "    def f2(self):\n",
    "        print(\"we are in f2\")\n",
    "obj=B()\n",
    "obj.f1()"
   ]
  },
  {
   "cell_type": "code",
   "execution_count": 43,
   "metadata": {},
   "outputs": [],
   "source": [
    "#dir(obj)"
   ]
  },
  {
   "cell_type": "markdown",
   "metadata": {},
   "source": [
    "### Multilevel Inheritence"
   ]
  },
  {
   "cell_type": "code",
   "execution_count": 52,
   "metadata": {},
   "outputs": [
    {
     "name": "stdout",
     "output_type": "stream",
     "text": [
      "we are in f2\n"
     ]
    }
   ],
   "source": [
    "class A:\n",
    "    def f1(self):\n",
    "        print(\"we are in f1\")\n",
    "class B(A):\n",
    "    def f2(self):\n",
    "        print(\"we are in f2\")\n",
    "class c(B):\n",
    "    def f3(self):\n",
    "        print(\"we are in f3\")\n",
    "ob=c()\n",
    "#dir(ob)\n",
    "ob.f2()"
   ]
  },
  {
   "cell_type": "markdown",
   "metadata": {},
   "source": [
    "## Multiple Inheritence"
   ]
  },
  {
   "cell_type": "code",
   "execution_count": 55,
   "metadata": {},
   "outputs": [
    {
     "name": "stdout",
     "output_type": "stream",
     "text": [
      "we are in f3\n"
     ]
    }
   ],
   "source": [
    "class A:\n",
    "    def f1(self):\n",
    "        print(\"we are in f1\")\n",
    "class B:\n",
    "    def f2(self):\n",
    "        print(\"we are in f2\")\n",
    "class c(A,B):\n",
    "    def f3(self):\n",
    "        print(\"we are in f3\")\n",
    "a_s=c()\n",
    "#dir(a_s)\n",
    "a_s.f3()"
   ]
  },
  {
   "cell_type": "raw",
   "metadata": {},
   "source": [
    "In multiple inhertance, two classes can be inherited by child class\n",
    "But in multilevel only one class can be inherited by child class\n"
   ]
  },
  {
   "cell_type": "markdown",
   "metadata": {},
   "source": [
    "## constructor with inheritence"
   ]
  },
  {
   "cell_type": "code",
   "execution_count": 77,
   "metadata": {},
   "outputs": [
    {
     "name": "stdout",
     "output_type": "stream",
     "text": [
      "we wre in Class A constructor\n",
      "we are in f1\n",
      "we are in f2\n",
      "we wre in Class c \n"
     ]
    }
   ],
   "source": [
    "class A:\n",
    "    def __init__(self):\n",
    "        print(\"we wre in Class A constructor\")\n",
    "    def f1(self):\n",
    "        print(\"we are in f1\")\n",
    "class B:\n",
    "    def __init__(self):\n",
    "        #super().__init__()\n",
    "        #super().f1()\n",
    "        print(\"we wre in Class b constructor\")\n",
    "    def f2(self):\n",
    "        print(\"we are in f2\")\n",
    "class C(A,B): ## \n",
    "    def f3(self):\n",
    "        super().f1()\n",
    "        super().f2()\n",
    "        print(\"we wre in Class c \")\n",
    "    \n",
    "obj=C()\n",
    "obj.f3()"
   ]
  },
  {
   "cell_type": "markdown",
   "metadata": {},
   "source": [
    "## Packages in Modules\n",
    "- package-collection modules\n",
    "- module- a .py file with block functions"
   ]
  },
  {
   "cell_type": "code",
   "execution_count": 78,
   "metadata": {},
   "outputs": [],
   "source": [
    "import module_oops"
   ]
  },
  {
   "cell_type": "code",
   "execution_count": 79,
   "metadata": {},
   "outputs": [
    {
     "data": {
      "text/plain": [
       "['__builtins__',\n",
       " '__cached__',\n",
       " '__doc__',\n",
       " '__file__',\n",
       " '__loader__',\n",
       " '__name__',\n",
       " '__package__',\n",
       " '__spec__',\n",
       " 'cse',\n",
       " 'ece',\n",
       " 'mech']"
      ]
     },
     "execution_count": 79,
     "metadata": {},
     "output_type": "execute_result"
    }
   ],
   "source": [
    "dir(module_oops)# checking class"
   ]
  },
  {
   "cell_type": "code",
   "execution_count": 83,
   "metadata": {},
   "outputs": [],
   "source": [
    "## creation of object\n",
    "apssdc=module_oops.cse()\n",
    "#dir(apssdc)"
   ]
  },
  {
   "cell_type": "code",
   "execution_count": 82,
   "metadata": {},
   "outputs": [
    {
     "name": "stdout",
     "output_type": "stream",
     "text": [
      "we are in cse section 2\n"
     ]
    }
   ],
   "source": [
    "apssdc.set_2()"
   ]
  },
  {
   "cell_type": "code",
   "execution_count": null,
   "metadata": {},
   "outputs": [],
   "source": [
    "## craete a objects for reamaining classes and call the methods which were inside it"
   ]
  }
 ],
 "metadata": {
  "kernelspec": {
   "display_name": "Python 3",
   "language": "python",
   "name": "python3"
  },
  "language_info": {
   "codemirror_mode": {
    "name": "ipython",
    "version": 3
   },
   "file_extension": ".py",
   "mimetype": "text/x-python",
   "name": "python",
   "nbconvert_exporter": "python",
   "pygments_lexer": "ipython3",
   "version": "3.7.6"
  }
 },
 "nbformat": 4,
 "nbformat_minor": 4
}
